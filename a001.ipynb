{
 "cells": [
  {
   "cell_type": "code",
   "execution_count": 2,
   "metadata": {},
   "outputs": [
    {
     "name": "stdout",
     "output_type": "stream",
     "text": [
      "輸入成功!\n"
     ]
    }
   ],
   "source": [
    "import finlab\n",
    "finlab.login(open(\"config.txt\", \"r\").read())\n",
    "from finlab import data\n",
    "from finlab import backtest\n",
    "import pandas as pd\n",
    "\n",
    "# pd.set_option('display.expand_frame_repr', False)\n",
    "# iStart, stockId = -250, \"1503\""
   ]
  },
  {
   "cell_type": "code",
   "execution_count": null,
   "metadata": {},
   "outputs": [],
   "source": [
    "from finlab.plot import plot_tw_stock_candles\n",
    "from talib import abstract\n",
    "\n",
    "stock_id = '6285'     # @param {type:\"string\"}\n",
    "recent_days = 600    # @param {type:\"slider\", min:200, max:6000, step:1}\n",
    "adjust_price = False  # @param [\"False\", \"True\"] {type:\"raw\"}\n",
    "resample = \"M\"        # @param [\"D\", \"W\",\"M\"] {allow-input: true}\n",
    "\n",
    "# overlay_func = {\n",
    "#  'ema_5':lambda df:abstract.EMA(df['close'],timeperiod=5),\n",
    "#  'ema_10':lambda df:abstract.EMA(df['close'],timeperiod=10),\n",
    "#  'ema_20':lambda df:abstract.EMA(df['close'],timeperiod=20),\n",
    "#  'ema_60':lambda df:abstract.EMA(df['close'],timeperiod=60),\n",
    "#  }\n",
    "\n",
    "technical_func = [\n",
    "  {\n",
    "  'rsi_10':lambda df:abstract.RSI(df['close'],timeperiod=10),\n",
    "  'rsi_20':lambda df:abstract.RSI(df['close'],timeperiod=20),\n",
    "  },\n",
    "  {\n",
    "  'k':lambda df:abstract.STOCH(df['high'], df['low'], df['close'])[0],\n",
    "  'd':lambda df:abstract.STOCH(df['high'], df['low'], df['close'])[1],\n",
    "  },\n",
    "]\n",
    "\n",
    "plot_tw_stock_candles(stock_id, recent_days = 600, adjust_price = \"D\")"
   ]
  },
  {
   "cell_type": "code",
   "execution_count": 9,
   "metadata": {},
   "outputs": [
    {
     "name": "stdout",
     "output_type": "stream",
     "text": [
      "DatetimeIndex(['2021-09-30', '2021-11-30', '2021-12-31', '2022-01-31',\n",
      "               '2022-07-31'],\n",
      "              dtype='datetime64[ns]', name='date', freq=None)\n",
      "date\n",
      "2020-04-30    22.65\n",
      "2020-05-31    26.60\n",
      "2020-06-30    27.40\n",
      "2020-07-31    24.65\n",
      "2020-08-31    28.25\n",
      "2020-09-30    25.40\n",
      "2020-10-31    26.30\n",
      "2020-11-30    30.00\n",
      "2020-12-31    31.30\n",
      "2021-01-31    36.90\n",
      "2021-02-28    34.10\n",
      "2021-03-31    36.70\n",
      "2021-04-30    33.50\n",
      "2021-05-31    28.00\n",
      "2021-06-30    28.65\n",
      "2021-07-31    28.50\n",
      "2021-08-31    26.20\n",
      "2021-09-30    25.50\n",
      "2021-10-31    27.80\n",
      "2021-11-30    28.65\n",
      "2021-12-31    34.00\n",
      "2022-01-31    29.75\n",
      "2022-02-28    30.35\n",
      "2022-03-31    31.90\n",
      "2022-04-30    29.00\n",
      "2022-05-31    27.40\n",
      "2022-06-30    26.20\n",
      "2022-07-31    31.00\n",
      "2022-08-31    30.90\n",
      "2022-09-30    35.10\n",
      "Freq: M, Name: 3380, dtype: float64\n"
     ]
    }
   ],
   "source": [
    "from finlab.backtest import sim\n",
    "import pandas as pd\n",
    "\n",
    "stock_id = \"3380\"\n",
    "close = data.get(\"price:開盤價\")\n",
    "\n",
    "# ema5    = data.indicator('EMA', adjust_price=True, resample='D',timeperiod=5)\n",
    "# ema10   = data.indicator('EMA', adjust_price=True, resample='D',timeperiod=10)\n",
    "# ema20   = data.indicator('EMA', adjust_price=True, resample='D',timeperiod=20)\n",
    "wk01    = close.resample(\"W\").last()   # 週K收盤價\n",
    "mk01    = close.resample(\"M\").last()   # 月K收盤價\n",
    "mk01H   = close.resample(\"H\").max()    # 月K最高價\n",
    "mk12    = mk01.average(12)             # 月K的年線:mk@ma12\n",
    "\"\"\"\n",
    "# diff_WW = (ma5.diff() * ma5.diff().shift() < 0) \n",
    "# diff_MM = (ma20.diff() * ma20.diff().shift() < 0) \n",
    "# diff_QQ = (ma60.diff() * ma60.diff().shift() < 0) \n",
    "# diff_YY = (ma240.diff() * ma240.diff().shift() < 0) \n",
    "\n",
    "# latest_pivot_price_WW = ma5[diff_WW].ffill()\n",
    "# latest_pivot_price_MM = ma20[diff_MM].ffill()\n",
    "# latest_pivot_price_QQ = ma60[diff_QQ].ffill()\n",
    "# latest_pivot_price_YY = ma240[diff_YY].ffill()\n",
    "\"\"\"\n",
    "diff_mk12 = (mk12.diff() * mk12.diff().shift()) < 0\n",
    "mk12_ma_flat = mk12[diff_mk12].ffill()\n",
    "\n",
    "# print(close[stock_id].tail(30))\n",
    "# print(mk01[stock_id].tail(20))\n",
    "# print(mk12[stock_id].tail(20))\n",
    "\n",
    "###  找出最近月均線@ma12 走平的最近五筆資料... ###\n",
    "tt        = diff_mk12[stock_id]\n",
    "tt_last5  = tt.index[tt == True][-5:]\n",
    "print(tt_last5)\n",
    "print(mk01[stock_id].tail(30))\n",
    "\n",
    "# 嘗試畫圖表示理解\n",
    "yyyy = '2020'\n",
    "# mk12_ma_flat[stock_id][yyyy:].plot()\n",
    "# # latest_pivot_price_QQ[stock_id]['2020':].plot(drawstyle=\"steps-post\")\n",
    "# mk12[stock_id][yyyy:].plot()"
   ]
  },
  {
   "cell_type": "code",
   "execution_count": null,
   "metadata": {},
   "outputs": [],
   "source": [
    "\n",
    "from finlab.plot import plot_tw_stock_candles\n",
    "from talib import abstract\n",
    "\n",
    "overlay_func={\n",
    "              'ema_5':lambda df:abstract.EMA(df['close'], timeperiod=5),\n",
    "              'ema_10':lambda df:abstract.EMA(df['close'], timeperiod=10),\n",
    "              'ema_20':lambda df:abstract.EMA(df['close'], timeperiod=20),\n",
    "              'ema_60':lambda df:abstract.EMA(df['close'], timeperiod=60),\n",
    "              'ema_240':lambda df:abstract.EMA(df['close'], timeperiod=240),\n",
    "              'diff_MM': diff_MM,\n",
    "            \n",
    "plot_tw_stock_candles(stock_id, resample=\"D\", recent_days = 600, adjust_price = False, overlay_func = overlay_func, technical_func = [])"
   ]
  }
 ],
 "metadata": {
  "kernelspec": {
   "display_name": "Python 3.10.2 64-bit",
   "language": "python",
   "name": "python3"
  },
  "language_info": {
   "codemirror_mode": {
    "name": "ipython",
    "version": 3
   },
   "file_extension": ".py",
   "mimetype": "text/x-python",
   "name": "python",
   "nbconvert_exporter": "python",
   "pygments_lexer": "ipython3",
   "version": "3.10.2"
  },
  "orig_nbformat": 4,
  "vscode": {
   "interpreter": {
    "hash": "369f2c481f4da34e4445cda3fffd2e751bd1c4d706f27375911949ba6bb62e1c"
   }
  }
 },
 "nbformat": 4,
 "nbformat_minor": 2
}
