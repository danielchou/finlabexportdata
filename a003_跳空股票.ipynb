{
 "cells": [
  {
   "cell_type": "code",
   "execution_count": 1,
   "metadata": {},
   "outputs": [
    {
     "name": "stdout",
     "output_type": "stream",
     "text": [
      "輸入成功!\n"
     ]
    },
    {
     "name": "stderr",
     "output_type": "stream",
     "text": [
      "WARNING:finlab.data:price:開盤價 -- Daily data usage: 21.8 / 5000 MB\n",
      "WARNING:finlab.data:price:收盤價 -- Daily data usage: 43.6 / 5000 MB\n",
      "WARNING:finlab.data:price:最高價 -- Daily data usage: 65.5 / 5000 MB\n",
      "WARNING:finlab.data:price:最低價 -- Daily data usage: 87.2 / 5000 MB\n",
      "WARNING:finlab.data:price:成交股數 -- Daily data usage: 117.6 / 5000 MB\n"
     ]
    }
   ],
   "source": [
    "import finlab\n",
    "finlab.login(open(\"config.txt\", \"r\").read())\n",
    "\n",
    "from finlab import data\n",
    "import pandas as pd\n",
    "iStart = -250\n",
    "opens    = data.get(\"price:開盤價\").fillna(0).astype(float)[iStart: ]      #如果資料有空白自動填0\n",
    "closes   = data.get(\"price:收盤價\").fillna(0).astype(float)[iStart: ]\n",
    "highs    = data.get(\"price:最高價\").fillna(0).astype(float)[iStart: ]\n",
    "lows     = data.get(\"price:最低價\").fillna(0).astype(float)[iStart: ]\n",
    "volumns  = data.get(\"price:成交股數\").fillna(0).astype(float)[iStart: ]  \n",
    "kd_k, kd_s  = data.indicator('STOCH')[iStart: ] \n",
    "pd.set_option('display.expand_frame_repr', False)"
   ]
  },
  {
   "cell_type": "code",
   "execution_count": 89,
   "metadata": {},
   "outputs": [],
   "source": [
    "import pandas as pd\n",
    "import numpy as np\n",
    "from finlab import data\n",
    "from finlab import backtest\n",
    "import _beowFmt as fm \n",
    "\n",
    "pd.set_option('display.expand_frame_repr', True)\n",
    "ss, today = '', position.iloc[-1:].index[0].strftime(\"%Y%m%d\")\n",
    "\n",
    "closes2 = closes.shift(1)\n",
    "cond1 = opens - closes.shift(1) > 0\n",
    "cond2 = closes >= opens\n",
    "cond3 = (closes - opens)/opens > 0.02\n",
    "\n",
    "position = cond1 & cond2 & cond3\n",
    "dff = position.iloc[-1:].transpose()\n",
    "dff[\"stock_ids\"] = dff.index\n",
    "dff.columns = [\"val\", \"stock_ids\"]\n",
    "dff = dff[ (dff[\"stock_ids\"].str.len() == 4) & (dff[\"val\"] == True) ]\n",
    "dff = dff.dropna(how='all')\n",
    "\n",
    "for c in dff[\"stock_ids\"].tolist():\n",
    "    ss += f\"{c}.TW,\"\n",
    "fm.write_LogFile(f\"datas/{today}_今天跳空開高.csv\", ss) \n"
   ]
  },
  {
   "cell_type": "code",
   "execution_count": null,
   "metadata": {},
   "outputs": [],
   "source": []
  }
 ],
 "metadata": {
  "kernelspec": {
   "display_name": "Python 3",
   "language": "python",
   "name": "python3"
  },
  "language_info": {
   "codemirror_mode": {
    "name": "ipython",
    "version": 3
   },
   "file_extension": ".py",
   "mimetype": "text/x-python",
   "name": "python",
   "nbconvert_exporter": "python",
   "pygments_lexer": "ipython3",
   "version": "3.10.2 (tags/v3.10.2:a58ebcc, Jan 17 2022, 14:12:15) [MSC v.1929 64 bit (AMD64)]"
  },
  "orig_nbformat": 4,
  "vscode": {
   "interpreter": {
    "hash": "369f2c481f4da34e4445cda3fffd2e751bd1c4d706f27375911949ba6bb62e1c"
   }
  }
 },
 "nbformat": 4,
 "nbformat_minor": 2
}
