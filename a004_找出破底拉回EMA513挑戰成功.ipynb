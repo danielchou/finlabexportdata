{
 "cells": [
  {
   "cell_type": "code",
   "execution_count": 4,
   "metadata": {},
   "outputs": [
    {
     "name": "stdout",
     "output_type": "stream",
     "text": [
      "量價型態20230910_1400_挑戰Ema5_13.csv\n",
      "輸入成功!\n"
     ]
    }
   ],
   "source": [
    "import os\n",
    "import pandas as pd\n",
    "\n",
    "pd.set_option('display.expand_frame_repr', False)\n",
    "pd.set_option('display.max_rows', 500)\n",
    "pd.set_option(\"expand_frame_repr\", False)\n",
    "pd.set_option('display.width', 180)                       # 设置打印宽度(**重要**)\n",
    "\n",
    "dir_path = \"xq_import\"\n",
    "files = os.listdir(dir_path)\n",
    "sorted_files = sorted(files)\n",
    "last_file = sorted_files[-1]\n",
    "\n",
    "# 輸出最後一個檔案的名稱\n",
    "print(last_file)\n",
    "with open(f\"xq_import\\{last_file}\" ,'r', encoding='utf-8') as file:\n",
    "    contents = file.read()\n",
    "# print(contents)\n",
    "\n",
    "df_stockName = pd.read_csv(\"paras/股票名稱.csv\")\n",
    "df_stockName.columns = [\"stockId\",\"stockName\"]\n",
    "df_stockName.index = df_stockName[\"stockId\"]\n",
    "df_stockName[\"stockId\"] = df_stockName[\"stockId\"].astype(\"string\")\n",
    "# print(df_stockName)\n",
    "\n",
    "import finlab\n",
    "finlab.login(open(\"config.txt\", \"r\").read())\n",
    "from finlab import data\n",
    "import pandas as pd\n",
    "import _beowFmt as fm \n",
    "import time\n",
    "\n",
    "##\n",
    "closes   = data.get(\"price:收盤價\").fillna(0).astype(float)[240:]\n",
    "opens    = data.get(\"price:開盤價\").fillna(0).astype(float)[240:]      #如果資料有空白自動填0\n",
    "highs    = data.get(\"price:最高價\").fillna(0).astype(float)[240:]\n",
    "lows     = data.get(\"price:最低價\").fillna(0).astype(float).tail(1)\n",
    "\n",
    "closeEma5   = closes.rolling(5, min_periods=1).mean().round(3).astype(float).tail(1)\n",
    "closeEma13  = closes.rolling(13, min_periods=1).mean().round(3).astype(float).tail(1)\n",
    "closeEma34  = closes.rolling(34, min_periods=1).mean().round(3).astype(float).tail(1)\n",
    "volumns     = data.get(\"price:成交股數\").fillna(0).astype(float)[250: ]\n",
    "v           = (volumns/1000).round(0).astype(int)\n",
    "ylows       = lows.shift(1, axis = 0)\n",
    "ycloses     = closes.shift(1, axis = 0) \n",
    "\n",
    "vdf = v.iloc[-1:].transpose()\n",
    "vdf[\"id\"] = vdf.index\n",
    "vdf.columns = [\"ma1\", \"id\"]\n",
    "vdf[\"id\"] = vdf[\"id\"].astype(\"string\")\n",
    "# print(vdf.info())\n",
    "# vdf = pd.merge(vdf, df_stockName, left_on = \"id\", right_on = \"stockId\" , validate='one_to_one')\n",
    "vdf[\"open\"] = opens.iloc[-1:].transpose()\n",
    "vdf[\"close\"] = closes.iloc[-1:].transpose()\n",
    "vdf[\"high\"] = highs.iloc[-1:].transpose()\n",
    "vdf[\"closeEma5\"] = closeEma5.iloc[-1:].transpose()\n",
    "vdf[\"closeEma13\"] = closeEma13.iloc[-1:].transpose()\n",
    "vdf[\"closeEma34\"] = closeEma34.iloc[-1:].transpose()\n",
    "vdf[\"low\"] = lows.iloc[-1:].transpose()\n",
    "# vdf[\"ylow\"] = ylows.iloc[-1:].transpose()\n",
    "vdf[\"yclose\"] = ycloses.iloc[-1:].transpose()\n",
    "vdf[\"Rbar\"] = vdf[\"close\"] >= vdf[\"open\"]\n",
    "vdf[\"EE\"] = (vdf[\"high\"] >= vdf[\"closeEma5\"]) & (vdf[\"closeEma5\"] >= vdf[\"closeEma13\"]) & (vdf[\"closeEma13\"] >= vdf[\"closeEma34\"]) & (vdf[\"high\"] >= vdf[\"closeEma13\"]) & (vdf[\"closeEma13\"] >= vdf[\"open\"]) & (vdf[\"closeEma5\"] >= vdf[\"open\"]) & (vdf[\"close\"] >= vdf[\"closeEma34\"])\n",
    "# print(vdf)\n",
    "\n",
    "vdf2 = vdf[ (vdf[\"EE\"] ==True) & (vdf[\"open\"] >= 10) ].dropna()\n",
    "s1 ,s2 , o_nowTime = '', '', time.strftime(\"%m%d_1400\", time.localtime())\n",
    "\n",
    "# print(vdf2)\n",
    "\n",
    "dd = vdf2[\"id\"].tolist()\n",
    "for d in dd:\n",
    "  s1 += f\"{d}.TW,\"\n",
    "fm.write_LogFile(f\"xq_import/量價型態2023{o_nowTime}_挑戰Ema5_13.csv\", s1)"
   ]
  }
 ],
 "metadata": {
  "kernelspec": {
   "display_name": "Python 3",
   "language": "python",
   "name": "python3"
  },
  "language_info": {
   "codemirror_mode": {
    "name": "ipython",
    "version": 3
   },
   "file_extension": ".py",
   "mimetype": "text/x-python",
   "name": "python",
   "nbconvert_exporter": "python",
   "pygments_lexer": "ipython3",
   "version": "3.10.2"
  },
  "orig_nbformat": 4
 },
 "nbformat": 4,
 "nbformat_minor": 2
}
