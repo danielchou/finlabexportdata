{
 "cells": [
  {
   "cell_type": "code",
   "execution_count": 2,
   "metadata": {},
   "outputs": [
    {
     "name": "stdout",
     "output_type": "stream",
     "text": [
      "很抱歉，作為一個AI助手，我無法即時提供您所在地的天氣資訊。我建議您可以查詢天氣預報網站或使用天氣預報的APP，這些工具通常能提供您所在地區的即時天氣資訊。\n",
      "{\n",
      "  \"id\": \"chatcmpl-8UTZpM8FLbZdoxnVpKNRmAvMklRBH\",\n",
      "  \"object\": \"chat.completion\",\n",
      "  \"created\": 1702274225,\n",
      "  \"model\": \"gpt-3.5-turbo-0613\",\n",
      "  \"choices\": [\n",
      "    {\n",
      "      \"index\": 0,\n",
      "      \"message\": {\n",
      "        \"role\": \"assistant\",\n",
      "        \"content\": \"\\u5f88\\u62b1\\u6b49\\uff0c\\u4f5c\\u70ba\\u4e00\\u500bAI\\u52a9\\u624b\\uff0c\\u6211\\u7121\\u6cd5\\u5373\\u6642\\u63d0\\u4f9b\\u60a8\\u6240\\u5728\\u5730\\u7684\\u5929\\u6c23\\u8cc7\\u8a0a\\u3002\\u6211\\u5efa\\u8b70\\u60a8\\u53ef\\u4ee5\\u67e5\\u8a62\\u5929\\u6c23\\u9810\\u5831\\u7db2\\u7ad9\\u6216\\u4f7f\\u7528\\u5929\\u6c23\\u9810\\u5831\\u7684APP\\uff0c\\u9019\\u4e9b\\u5de5\\u5177\\u901a\\u5e38\\u80fd\\u63d0\\u4f9b\\u60a8\\u6240\\u5728\\u5730\\u5340\\u7684\\u5373\\u6642\\u5929\\u6c23\\u8cc7\\u8a0a\\u3002\"\n",
      "      },\n",
      "      \"finish_reason\": \"stop\"\n",
      "    }\n",
      "  ],\n",
      "  \"usage\": {\n",
      "    \"prompt_tokens\": 20,\n",
      "    \"completion_tokens\": 96,\n",
      "    \"total_tokens\": 116\n",
      "  },\n",
      "  \"system_fingerprint\": null\n",
      "}\n"
     ]
    }
   ],
   "source": [
    "import openai\n",
    "\n",
    "\n",
    "openai.organization = ''\n",
    "openai.api_key = open(\"chatGPT_apikey.txt\", \"r\").read()  ## Api Key另外存寫\n",
    "\n",
    "completion = openai.ChatCompletion.create(\n",
    "  model=\"gpt-3.5-turbo\",\n",
    "  messages=[\n",
    "    {\"role\": \"user\", \"content\": \"請問今天台北氣溫?\"}\n",
    "  ]\n",
    ")\n",
    "print(completion.choices[0].message.content.encode('utf-8').decode('utf-8'))\n",
    "print(completion)"
   ]
  }
 ],
 "metadata": {
  "kernelspec": {
   "display_name": "Python 3",
   "language": "python",
   "name": "python3"
  },
  "language_info": {
   "codemirror_mode": {
    "name": "ipython",
    "version": 3
   },
   "file_extension": ".py",
   "mimetype": "text/x-python",
   "name": "python",
   "nbconvert_exporter": "python",
   "pygments_lexer": "ipython3",
   "version": "3.10.2"
  }
 },
 "nbformat": 4,
 "nbformat_minor": 2
}
