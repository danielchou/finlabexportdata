{
 "cells": [
  {
   "cell_type": "code",
   "execution_count": 1,
   "metadata": {},
   "outputs": [
    {
     "name": "stdout",
     "output_type": "stream",
     "text": [
      "輸入成功!\n"
     ]
    },
    {
     "name": "stderr",
     "output_type": "stream",
     "text": [
      "Your version is 0.5.12, please install a newer version.\n",
      "Use \"pip install finlab==0.5.13\" to update the latest version.\n"
     ]
    }
   ],
   "source": [
    "import pandas as pd\n",
    "import numpy as np\n",
    "from finlab import data\n",
    "from finlab import backtest\n",
    "\n",
    "import os\n",
    "import finlab\n",
    "from finlab import data\n",
    "import pandas as pd\n",
    "import _beowFmt as fm \n",
    "import time\n",
    "finlab.login(open(\"config.txt\", \"r\").read())\n",
    "\n",
    "close = data.get('price:收盤價')\n",
    "vol = data.get('price:成交股數')\n",
    "sma20 = close.average(20)\n",
    "# 近一日收盤價創近60日新高\n",
    "newhigh = close.rolling(60, min_periods=1).max() == close\n",
    "cond1 = newhigh\n",
    "# 前30日(不包含今日)有至少一日的收盤價未創新高\n",
    "cond2 = (newhigh.shift(1) == 0).rolling(30).sum() > 0\n",
    "# 第30日～第55日前的收盤價有至少一日收盤價創近60日新高\n",
    "cond3 = (newhigh.shift(30).rolling(25).sum() > 0)\n",
    "# 前30日～55日的收盤價最高價小於近日收盤價\n",
    "cond4 = (close.shift(30).rolling(25).max() < close)\n",
    "# 近日收盤價大於120前收盤價\n",
    "cond5 = close > close.shift(120)\n",
    "# 近日收盤價大於60前收盤價\n",
    "cond6 = close > close.shift(60)\n",
    "\n",
    "rev = data.get('monthly_revenue:當月營收')\n",
    "# 近3月平均營收大於12月平均營收\n",
    "cond7 = rev.average(3) > rev.average(12)\n",
    "# 近5日平均成交量大於近20日平均成交量\n",
    "cond8 = vol.average(5) > vol.average(20)\n",
    "\n",
    "# 近5日平均成交量 > 2000\n",
    "cond9 = vol.average(5)/1000 > 2000\n",
    "\n",
    "buy = cond1 & cond2 & cond3 & cond4 & cond5 & cond6 & cond7 & cond8 & cond9\n",
    "# 月線下彎\n",
    "sell = sma20 < sma20.shift()\n",
    "\n",
    "position = pd.DataFrame(np.nan, index=buy.index, columns=buy.columns)\n",
    "position[buy] = 1\n",
    "position[sell] = 0\n",
    "position = position.ffill().fillna(0)\n",
    "\n",
    "\n",
    "# report = backtest.sim(position.loc['2014':], resample=\"W\",name='二次創高股票', live_performance_start='2018-06-01')\n",
    "\n",
    "dff = position.iloc[-1:].transpose()\n",
    "dff[\"stock_ids\"] = dff.index\n",
    "dff.columns = [\"val\", \"stock_ids\"]\n",
    "\n",
    "dff = dff[ (dff[\"stock_ids\"].str.len() == 4) & (dff[\"val\"] == True) ]\n",
    "dff = dff.dropna(how='all')\n",
    "\n",
    "# print(dff)\n",
    "today, ss = position.iloc[-1:].index[0].strftime(\"%Y%m%d\"), \"\"\n",
    "\n",
    "for c in dff[\"stock_ids\"].tolist():\n",
    "    ss += f\"{c}.TW,\"\n",
    "fm.write_LogFile(f\"xq_import_二次創高/{today}_二次創高.csv\", ss) \n"
   ]
  },
  {
   "cell_type": "code",
   "execution_count": null,
   "metadata": {},
   "outputs": [],
   "source": []
  }
 ],
 "metadata": {
  "kernelspec": {
   "display_name": "Python 3",
   "language": "python",
   "name": "python3"
  },
  "language_info": {
   "codemirror_mode": {
    "name": "ipython",
    "version": 3
   },
   "file_extension": ".py",
   "mimetype": "text/x-python",
   "name": "python",
   "nbconvert_exporter": "python",
   "pygments_lexer": "ipython3",
   "version": "3.10.2"
  }
 },
 "nbformat": 4,
 "nbformat_minor": 2
}
