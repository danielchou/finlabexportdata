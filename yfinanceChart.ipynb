{
 "cells": [
  {
   "cell_type": "code",
   "execution_count": 1,
   "metadata": {},
   "outputs": [
    {
     "ename": "ModuleNotFoundError",
     "evalue": "No module named 'yfinance'",
     "output_type": "error",
     "traceback": [
      "\u001b[1;31m---------------------------------------------------------------------------\u001b[0m",
      "\u001b[1;31mModuleNotFoundError\u001b[0m                       Traceback (most recent call last)",
      "\u001b[1;32m~\\AppData\\Local\\Temp\\ipykernel_17312\\1134613614.py\u001b[0m in \u001b[0;36m<module>\u001b[1;34m\u001b[0m\n\u001b[1;32m----> 1\u001b[1;33m \u001b[1;32mimport\u001b[0m \u001b[0myfinance\u001b[0m \u001b[1;32mas\u001b[0m \u001b[0myf\u001b[0m\u001b[1;33m\u001b[0m\u001b[1;33m\u001b[0m\u001b[0m\n\u001b[0m\u001b[0;32m      2\u001b[0m \u001b[1;33m\u001b[0m\u001b[0m\n\u001b[0;32m      3\u001b[0m \u001b[1;31m# 取得股價歷史資料(含台股\\美股\\加密貨幣)\u001b[0m\u001b[1;33m\u001b[0m\u001b[1;33m\u001b[0m\u001b[0m\n\u001b[0;32m      4\u001b[0m \u001b[1;33m\u001b[0m\u001b[0m\n\u001b[0;32m      5\u001b[0m \u001b[0msymbol\u001b[0m \u001b[1;33m=\u001b[0m \u001b[1;34m'2330.TW'\u001b[0m \u001b[1;31m# 台股上市:TW 台股上櫃:TWO\u001b[0m\u001b[1;33m\u001b[0m\u001b[1;33m\u001b[0m\u001b[0m\n",
      "\u001b[1;31mModuleNotFoundError\u001b[0m: No module named 'yfinance'"
     ]
    }
   ],
   "source": [
    "import yfinance as yf\n",
    "\n",
    "# 取得股價歷史資料(含台股\\美股\\加密貨幣)\n",
    "\n",
    "symbol = '2330.TW' # 台股上市:TW 台股上櫃:TWO \n",
    "start = '2018-01-01' # 起始時間\n",
    "end = '2022-12-31' # 結束時間\n",
    "\n",
    "ohlcv = yf.Ticker(symbol).history('max').loc[start:end]\n",
    "\n",
    "ohlcv\n"
   ]
  },
  {
   "cell_type": "code",
   "execution_count": 3,
   "metadata": {},
   "outputs": [
    {
     "ename": "ModuleNotFoundError",
     "evalue": "No module named 'highcharts'",
     "output_type": "error",
     "traceback": [
      "\u001b[1;31m---------------------------------------------------------------------------\u001b[0m",
      "\u001b[1;31mModuleNotFoundError\u001b[0m                       Traceback (most recent call last)",
      "\u001b[1;32m~\\AppData\\Local\\Temp\\ipykernel_11548\\486704655.py\u001b[0m in \u001b[0;36m<module>\u001b[1;34m\u001b[0m\n\u001b[1;32m----> 1\u001b[1;33m \u001b[1;32mfrom\u001b[0m \u001b[0mhighcharts\u001b[0m \u001b[1;32mimport\u001b[0m \u001b[0mHighchart\u001b[0m\u001b[1;33m\u001b[0m\u001b[1;33m\u001b[0m\u001b[0m\n\u001b[0m\u001b[0;32m      2\u001b[0m \u001b[1;32mimport\u001b[0m \u001b[0mdatetime\u001b[0m\u001b[1;33m\u001b[0m\u001b[1;33m\u001b[0m\u001b[0m\n\u001b[0;32m      3\u001b[0m \u001b[1;32mfrom\u001b[0m \u001b[0mIPython\u001b[0m\u001b[1;33m.\u001b[0m\u001b[0mdisplay\u001b[0m \u001b[1;32mimport\u001b[0m \u001b[0mHTML\u001b[0m\u001b[1;33m,\u001b[0m\u001b[0mdisplay\u001b[0m\u001b[1;33m\u001b[0m\u001b[1;33m\u001b[0m\u001b[0m\n\u001b[0;32m      4\u001b[0m \u001b[1;32mimport\u001b[0m \u001b[0mos\u001b[0m\u001b[1;33m\u001b[0m\u001b[1;33m\u001b[0m\u001b[0m\n\u001b[0;32m      5\u001b[0m \u001b[1;33m\u001b[0m\u001b[0m\n",
      "\u001b[1;31mModuleNotFoundError\u001b[0m: No module named 'highcharts'"
     ]
    }
   ],
   "source": [
    "from highcharts import Highchart\n",
    "import datetime\n",
    "from IPython.display import HTML,display\n",
    "import os\n",
    "\n",
    "# 客制化調整參數\n",
    "color = '#4285f4' # 線的顏色 (red/green/blue/purple)\n",
    "linewidth = 2 # 線的粗細\n",
    "title = symbol # 標題名稱\n",
    "width = 800 # 圖的寬度\n",
    "height = 500 # 圖的高度\n",
    "\n",
    "\n",
    "# 繪圖設定\n",
    "H = Highchart(width=width,height=height)\n",
    "\n",
    "x = ohlcv.index\n",
    "y = round(ohlcv.Close,2)\n",
    "\n",
    "data = [[index,s] for index,s in zip(x,y)]\n",
    "H.add_data_set(data,'line','data',color=color)\n",
    "\n",
    "H.set_options('xAxis',{'type':'datetime'})\n",
    "H.set_options('title',{'text':title,'style':{'color':'black'}}) # 設定title\n",
    "H.set_options('plotOptions',{'line':{'lineWidth':linewidth,'dataLabels':{'enabled': False}}}) # 設定線的粗度\n",
    "H.set_options('tooltip',{'shared':True,'crosshairs':True}) # 設定為可互動式\n",
    "\n",
    "# 顯示圖表\n",
    "H.save_file('chart')\n",
    "display(HTML('chart.html'))\n",
    "os.remove('chart.html')"
   ]
  }
 ],
 "metadata": {
  "kernelspec": {
   "display_name": "base",
   "language": "python",
   "name": "python3"
  },
  "language_info": {
   "codemirror_mode": {
    "name": "ipython",
    "version": 3
   },
   "file_extension": ".py",
   "mimetype": "text/x-python",
   "name": "python",
   "nbconvert_exporter": "python",
   "pygments_lexer": "ipython3",
   "version": "3.9.13"
  },
  "orig_nbformat": 4,
  "vscode": {
   "interpreter": {
    "hash": "ab181a2f8ef34a80de634118bfe45b84d038ef1eec99190d4ba63959f1a265a4"
   }
  }
 },
 "nbformat": 4,
 "nbformat_minor": 2
}
