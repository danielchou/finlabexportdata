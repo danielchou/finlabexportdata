{
 "cells": [
  {
   "cell_type": "code",
   "execution_count": 1,
   "metadata": {},
   "outputs": [
    {
     "ename": "NameError",
     "evalue": "name 'close' is not defined",
     "output_type": "error",
     "traceback": [
      "\u001b[1;31m---------------------------------------------------------------------------\u001b[0m",
      "\u001b[1;31mNameError\u001b[0m                                 Traceback (most recent call last)",
      "Cell \u001b[1;32mIn [1], line 8\u001b[0m\n\u001b[0;32m      4\u001b[0m \u001b[39mfrom\u001b[39;00m \u001b[39mfinlab\u001b[39;00m \u001b[39mimport\u001b[39;00m backtest\n\u001b[0;32m      6\u001b[0m \u001b[39m# close = data.get('price:收盤價')\u001b[39;00m\n\u001b[0;32m      7\u001b[0m \u001b[39m# vol = data.get('price:成交股數')\u001b[39;00m\n\u001b[1;32m----> 8\u001b[0m sma20 \u001b[39m=\u001b[39m close\u001b[39m.\u001b[39maverage(\u001b[39m20\u001b[39m)\n\u001b[0;32m      9\u001b[0m sma60 \u001b[39m=\u001b[39m close\u001b[39m.\u001b[39maverage(\u001b[39m60\u001b[39m)  \n\u001b[0;32m     10\u001b[0m cond9 \u001b[39m=\u001b[39m sma60 \u001b[39m>\u001b[39m sma60\u001b[39m.\u001b[39mshift()  \n",
      "\u001b[1;31mNameError\u001b[0m: name 'close' is not defined"
     ]
    }
   ],
   "source": [
    "import pandas as pd\n",
    "import numpy as np\n",
    "from finlab import data\n",
    "from finlab import backtest\n",
    "\n",
    "close = data.get('price:收盤價')\n",
    "# vol = data.get('price:成交股數')\n",
    "sma20 = close.average(20)\n",
    "sma60 = close.average(60)  \n",
    "cond9 = sma60 > sma60.shift()  \n",
    "cond9 "
   ]
  }
 ],
 "metadata": {
  "kernelspec": {
   "display_name": "Python 3.10.8 64-bit",
   "language": "python",
   "name": "python3"
  },
  "language_info": {
   "codemirror_mode": {
    "name": "ipython",
    "version": 3
   },
   "file_extension": ".py",
   "mimetype": "text/x-python",
   "name": "python",
   "nbconvert_exporter": "python",
   "pygments_lexer": "ipython3",
   "version": "3.10.8"
  },
  "orig_nbformat": 4,
  "vscode": {
   "interpreter": {
    "hash": "5598684e35808281c470853877934f7e11f222e6ce268f810e9e4f0e18b5c753"
   }
  }
 },
 "nbformat": 4,
 "nbformat_minor": 2
}
