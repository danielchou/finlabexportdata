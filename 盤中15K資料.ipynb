{
 "cells": [
  {
   "cell_type": "code",
   "execution_count": 2,
   "metadata": {},
   "outputs": [],
   "source": [
    "#前置作業準備，只要一次!!\n",
    "import requests\n",
    "import pandas as pd\n",
    "from bs4 import BeautifulSoup\n",
    "import json\n",
    "\n",
    "df5k = pd.read_json(\"paras/mapping5K.json\")\n",
    "dfv = pd.read_csv(\"volumeData/20230105.csv\")\n",
    "dfv[\"id\"] = dfv[\"id\"].astype(\"string\")\n",
    "dfv = dfv.drop(columns=['close'])\n",
    "\n",
    "headers = {\n",
    "    \"User-Agent\": \"Mozilla/5.0 (Macintosh; Intel Mac OS X 10_14_6) AppleWebKit/537.36(KHTML, like Gecko) Chrome/78.0.3904.97 Safari/537.36\"\n",
    "}\n",
    "\n",
    "url4 = \"https://www.wantgoo.com/investrue/all-alive\"\n",
    "r3 = requests.get(url4, headers = headers).content\n",
    "soup = BeautifulSoup(r3, \"html.parser\")\n",
    "rr3 = soup.prettify()\n",
    "dfn = pd.read_json(rr3)\n",
    "# dfn = pd.json_normalize(rr3, \"industries\" ,['id','name','shortName'])\n",
    "dfn = dfn[(dfn[\"id\"]>=\"1101\") & (dfn[\"id\"]<=\"9999\") & (dfn[\"id\"].str.len() == 4)]\n",
    "dfn = dfn.drop(columns=['type','country','url', 'industries'])\n",
    "dfn[\"id\"] = dfn[\"id\"].astype(\"string\")\n",
    "# dfn.info()"
   ]
  },
  {
   "cell_type": "code",
   "execution_count": 26,
   "metadata": {},
   "outputs": [
    {
     "name": "stdout",
     "output_type": "stream",
     "text": [
      "目前時間：01:18,預估量放大係數:1.0\n",
      "      id   flat   floor    ceil    open   high     low   close  previousClose  volume name  market   float       amp  jump  jumpRate     value  yVolume  volumeEst  volumeDiff\n",
      "14  1752   60.4   54.40   66.40   61.30   64.7   60.60   61.00           60.4   41920   南光  Listed   61.00 -0.489396  0.90  1.468189  41.28689    11533    41920.0    3.634787\n",
      "4   8171   55.1   49.60   60.60   57.30   57.7   54.00   55.70           55.1   17822   天宇     OTC   55.70 -2.792321  2.20  3.839442  25.86356    21551    17822.0    0.826969\n",
      "8   5321   75.0   67.50   82.50   76.90   79.0   75.30   75.70           75.0    6446  美而快     OTC   75.70 -1.560468  1.90  2.470741  15.72136     1474     6446.0    4.373134\n",
      "6   3141   80.8   72.80   88.80   83.50   88.8   83.20   88.60           80.8   10934   晶宏     OTC   88.60  6.107784  2.70  3.233533  14.43629     1349    10934.0    8.105263\n",
      "29  8996  179.0  161.50  196.50  180.00  186.0  180.00  184.00          179.0   13007   高力  Listed  184.00  2.222222  1.00  0.555556  13.71497    13603    13007.0    0.956186\n",
      "..   ...    ...     ...     ...     ...    ...     ...     ...            ...     ...  ...     ...     ...       ...   ...       ...       ...      ...        ...         ...\n",
      "75  6443   34.8   31.35   38.25   34.75   35.2   34.50   35.00           34.8    5124   元晶  Listed   35.00  0.719424 -0.05 -0.143885   1.04536    12206     5124.0    0.419794\n",
      "32  4106   28.2   25.40   31.00   28.35   28.7   28.05   28.35           28.2    1056   雃博  Listed   28.35  0.000000  0.15  0.529101   1.03457      712     1056.0    1.483146\n",
      "73  8050   77.3   69.60   85.00   77.20   77.7   76.70   77.40           77.3    1838   廣積     OTC   77.40  0.259067 -0.10 -0.129534   1.02880     2651     1838.0    0.693323\n",
      "80  6568  160.5  144.50  176.50  160.00  164.0  158.50  162.00          160.5     316   宏觀     OTC  162.00  1.250000 -0.50 -0.312500   1.02017      652      316.0    0.484663\n",
      "28  3504   83.5   75.20   91.80   84.00   84.4   82.50   84.00           83.5    1172  揚明光  Listed   84.00  0.000000  0.50  0.595238   1.01789     2806     1172.0    0.417676\n",
      "\n",
      "[100 rows x 20 columns]\n"
     ]
    }
   ],
   "source": [
    "import requests\n",
    "import pandas as pd\n",
    "from bs4 import BeautifulSoup\n",
    "import json\n",
    "import _beowFmt as fm \n",
    "pd.set_option('display.expand_frame_repr', False)\n",
    "headers = {\n",
    "    \"User-Agent\": \"Mozilla/5.0 (Macintosh; Intel Mac OS X 10_14_6) AppleWebKit/537.36(KHTML, like Gecko) Chrome/78.0.3904.97 Safari/537.36\"\n",
    "}\n",
    "url2 = \"https://www.wantgoo.com/investrue/all-quote-info\"\n",
    "\n",
    "r = requests.get(url2, headers = headers).content\n",
    "soup = BeautifulSoup(r, \"html.parser\")\n",
    "rr = soup.prettify()\n",
    "df = pd.read_json(rr)\n",
    "df = df.drop(columns=['tradeDate', 'time','millionAmount'])\n",
    "df[\"id\"] = df[\"id\"].astype(\"string\")\n",
    "df = pd.merge(df, dfn, left_on=\"id\", right_on=\"id\")  ## 結合股票名稱\n",
    "df[\"float\"] = df[\"close\"].astype(\"float\")\n",
    "df[\"amp\"] = (df[\"close\"] - df[\"open\"])/df[\"open\"] * 100\n",
    "df[\"jump\"] = df[\"open\"] - df[\"previousClose\"]\n",
    "df[\"jumpRate\"] = df[\"jump\"] / df[\"open\"] * 100\n",
    "df = df[(df[\"id\"]>=\"1101\") & (df[\"id\"]<=\"9999\") & (df[\"id\"].str.len() == 4) & (df[\"close\"] > df[\"previousClose\"])].sort_values(\"jumpRate\", ascending=False)\n",
    "# df.info()\n",
    "# print(df.head(50))\n",
    "\n",
    "url3 = \"https://www.wantgoo.com/stock/all-turnover-rates\"\n",
    "r2 = requests.get(url3, headers = headers).content\n",
    "soup = BeautifulSoup(r2, \"html.parser\")\n",
    "rr2 = soup.prettify()\n",
    "dfa = pd.read_json(rr2)\n",
    "# print(dfa)\n",
    "\n",
    "dfa[\"investrueId\"] = dfa[\"investrueId\"].astype(\"string\")\n",
    "dfb = pd.merge(df, dfa, left_on=\"id\", right_on=\"investrueId\")\n",
    "dfb = dfb.drop(columns=['investrueId'])\n",
    "dfb = dfb[(dfb[\"value\"] > 1)]\n",
    "\n",
    "### 計算量比參數 ###\n",
    "import time\n",
    "localtime = time.localtime()\n",
    "nowTime = time.strftime(\"%H:%M\", localtime)\n",
    "# print(nowTime)\n",
    "# nowTime = \"09:13\"\n",
    "Rate5k = df5k[(df5k[\"e\"] >= nowTime) & (df5k[\"b\"] <= nowTime)][\"w\"].values[0]  #五分K量比預估放大參數\n",
    "print(f\"目前時間：{nowTime},預估量放大係數:{Rate5k}\")\n",
    "\n",
    "dfc = pd.merge(dfb, dfv, left_on=\"id\", right_on=\"id\")\n",
    "dfc[\"volumeEst\"] = dfc[\"volume\"] * Rate5k                               ##預估量\n",
    "dfc[\"volumeDiff\"] = dfc[\"volumeEst\"] / dfc[\"yVolume\"]\n",
    "dfc2 = dfc[dfc[\"volumeDiff\"] > 0]\n",
    "print(dfc2.sort_values(\"value\", ascending=False))\n",
    "\n",
    "ss = ''\n",
    "for d in dfc2[\"id\"].tolist():\n",
    "  ss += f\"{d}.TW,\"\n",
    "fm.write_LogFile(f\"xq_import/量價型態20230106.csv\", ss)\n",
    "\n",
    "\n",
    "######################################################################################################\n",
    "# import _beowFmt as fm \n",
    "# dd = dfb[[\"id\",\"close\",\"volume\"]].sort_values(\"id\")\n",
    "# ss = 'id,close,yVolume\\n'\n",
    "# for d in dd.values.tolist():\n",
    "#   ss += f\"{d[0]},{d[1]},{d[2]}\\n\"\n",
    "# fm.write_LogFile(f\"volumeData/20230105.csv\", ss)\n",
    "## todo ##\n",
    "# https://www.wantgoo.com/investrue/all-alive       #股票名稱\n",
    "# https://www.wantgoo.com/investrue/all-previous-weekly-candlestick?v=1672966860000  上一周收盤價\n"
   ]
  },
  {
   "cell_type": "code",
   "execution_count": 30,
   "metadata": {},
   "outputs": [
    {
     "name": "stdout",
     "output_type": "stream",
     "text": [
      "13:20\n"
     ]
    }
   ],
   "source": [
    "import time\n",
    "localtime = time.localtime()\n",
    "nowTime = time.strftime(\"%H:%M\", localtime)\n",
    "print(nowTime)\n",
    "# multiple_level_data = pd.json_normalize(data, record_path =['Results'], meta =['original_number_of_clusters','Scaler','family_min_samples_percentage'], meta_prefix='config_params_', record_prefix='dbscan_')"
   ]
  },
  {
   "cell_type": "code",
   "execution_count": null,
   "metadata": {},
   "outputs": [],
   "source": [
    "import _beowFmt as fm \n",
    "\n",
    "df2 = df[(df[\"id\"]>=\"1101\") & (df[\"id\"]<=\"9999\") & (df[\"volume\"] >= 1000)].sort_values(by=['id'], ascending=True)\n",
    "dd = df2[{\"id\",\"volume\"}]\n",
    "ss = ''\n",
    "for d in dd.values.tolist():\n",
    "  ss += f\"{d[1]}, {d[0]}\\n\"\n",
    "\n",
    "fm.write_LogFile(f\"keepData/stockVolume.csv\", ss)"
   ]
  },
  {
   "cell_type": "code",
   "execution_count": null,
   "metadata": {},
   "outputs": [],
   "source": [
    "while True:\n",
    "    localtime = time.localtime()\n",
    "    result = time.strftime(\"%Y-%m-%d %I:%M:%S %p\", localtime)\n",
    "    print(result)\n",
    "    time.sleep(1)"
   ]
  },
  {
   "cell_type": "code",
   "execution_count": null,
   "metadata": {},
   "outputs": [],
   "source": [
    "from pathlib import Path  \n",
    "\n",
    "filepath = Path('https://www.wantgoo.com/investrue/all-quote-info')  \n",
    "filepath.parent.mkdir(parents=True, exist_ok=True)  \n",
    "df.to_csv(filepath)  "
   ]
  },
  {
   "cell_type": "code",
   "execution_count": null,
   "metadata": {},
   "outputs": [],
   "source": [
    "# importing the requests library\n",
    "import requests\n",
    "\n",
    "# api-endpoint\n",
    "URL = \"http://maps.googleapis.com/maps/api/geocode/json\"\n",
    "\n",
    "# location given here\n",
    "location = \"delhi technological university\"\n",
    "\n",
    "# defining a params dict for the parameters to be sent to the API\n",
    "PARAMS = {'address':location}\n",
    "\n",
    "# sending get request and saving the response as response object\n",
    "r = requests.get(url = URL, params = PARAMS)\n",
    "\n",
    "# extracting data in json format\n",
    "data = r.json()\n",
    "\n",
    "\n",
    "# extracting latitude, longitude and formatted address\n",
    "# of the first matching location\n",
    "latitude = data['results'][0]['geometry']['location']['lat']\n",
    "longitude = data['results'][0]['geometry']['location']['lng']\n",
    "formatted_address = data['results'][0]['formatted_address']\n",
    "\n",
    "# printing the output\n",
    "print(\"Latitude:%s\\nLongitude:%s\\nFormatted Address:%s\"\n",
    "\t%(latitude, longitude,formatted_address))\n"
   ]
  }
 ],
 "metadata": {
  "kernelspec": {
   "display_name": "Python 3",
   "language": "python",
   "name": "python3"
  },
  "language_info": {
   "codemirror_mode": {
    "name": "ipython",
    "version": 3
   },
   "file_extension": ".py",
   "mimetype": "text/x-python",
   "name": "python",
   "nbconvert_exporter": "python",
   "pygments_lexer": "ipython3",
   "version": "3.10.2"
  },
  "orig_nbformat": 4,
  "vscode": {
   "interpreter": {
    "hash": "369f2c481f4da34e4445cda3fffd2e751bd1c4d706f27375911949ba6bb62e1c"
   }
  }
 },
 "nbformat": 4,
 "nbformat_minor": 2
}
