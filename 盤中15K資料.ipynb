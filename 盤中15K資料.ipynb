{
 "cells": [
  {
   "cell_type": "code",
   "execution_count": 7,
   "metadata": {},
   "outputs": [
    {
     "name": "stderr",
     "output_type": "stream",
     "text": [
      "C:\\Users\\choudani\\AppData\\Local\\Temp\\ipykernel_14712\\2316319950.py:37: FutureWarning: Passing a set as an indexer is deprecated and will raise in a future version. Use a list instead.\n",
      "  dd = dfb[{\"id\",\"volume\"}].sort_values(\"id\")\n"
     ]
    }
   ],
   "source": [
    "import requests\n",
    "import pandas as pd\n",
    "from bs4 import BeautifulSoup\n",
    "import json\n",
    "pd.set_option('display.expand_frame_repr', False)\n",
    "headers = {\n",
    "    \"User-Agent\": \"Mozilla/5.0 (Macintosh; Intel Mac OS X 10_14_6) AppleWebKit/537.36(KHTML, like Gecko) Chrome/78.0.3904.97 Safari/537.36\"\n",
    "}\n",
    "url2 = \"https://www.wantgoo.com/investrue/all-quote-info\"\n",
    "\n",
    "r = requests.get(url2, headers = headers).content\n",
    "soup = BeautifulSoup(r, \"html.parser\")\n",
    "rr = soup.prettify()\n",
    "df = pd.read_json(rr)\n",
    "\n",
    "df = df.drop(columns=['tradeDate', 'time','millionAmount'])\n",
    "df[\"id\"] = df[\"id\"].astype(\"string\")\n",
    "df[\"float\"] = df[\"close\"].astype(\"float\")\n",
    "df[\"amp\"] = (df[\"close\"] - df[\"open\"])/df[\"open\"] * 100\n",
    "# df = df[(df[\"id\"]>=\"1101\") & (df[\"id\"]<=\"9999\") & (df[\"volume\"] >= 2000) & (df[\"close\"] > df[\"previousClose\"]) & (df[\"amp\"] > 2)].sort_values(by=['amp', 'volume'], ascending=False)\n",
    "df = df[(df[\"id\"]>=\"1101\") & (df[\"id\"]<=\"9999\")]\n",
    "# df.info()\n",
    "# print(df.head(30))\n",
    "\n",
    "url3 = \"https://www.wantgoo.com/stock/all-turnover-rates\"\n",
    "r2 = requests.get(url3, headers = headers).content\n",
    "soup = BeautifulSoup(r2, \"html.parser\")\n",
    "rr2 = soup.prettify()\n",
    "dfa = pd.read_json(rr2)\n",
    "\n",
    "dfa[\"investrueId\"] = dfa[\"investrueId\"].astype(\"string\")\n",
    "# dfa.info()\n",
    "dfb = pd.merge(df, dfa, left_on=\"id\", right_on=\"investrueId\").sort_values(\"value\", ascending=False)\n",
    "dfb\n",
    "\n",
    "import _beowFmt as fm \n",
    "dd = dfb[{\"id\",\"volume\"}].sort_values(\"id\")\n",
    "ss = 'id,volume\\n'\n",
    "for d in dd.values.tolist():\n",
    "  ss += f\"{d[0]}, {d[1]}\\n\"\n",
    "\n",
    "fm.write_LogFile(f\"volumeData/20230105.csv\", ss)\n",
    "\n"
   ]
  },
  {
   "cell_type": "code",
   "execution_count": 27,
   "metadata": {},
   "outputs": [
    {
     "data": {
      "text/html": [
       "<div>\n",
       "<style scoped>\n",
       "    .dataframe tbody tr th:only-of-type {\n",
       "        vertical-align: middle;\n",
       "    }\n",
       "\n",
       "    .dataframe tbody tr th {\n",
       "        vertical-align: top;\n",
       "    }\n",
       "\n",
       "    .dataframe thead th {\n",
       "        text-align: right;\n",
       "    }\n",
       "</style>\n",
       "<table border=\"1\" class=\"dataframe\">\n",
       "  <thead>\n",
       "    <tr style=\"text-align: right;\">\n",
       "      <th></th>\n",
       "      <th>id</th>\n",
       "      <th>volume</th>\n",
       "      <th>Unnamed: 2</th>\n",
       "    </tr>\n",
       "  </thead>\n",
       "  <tbody>\n",
       "    <tr>\n",
       "      <th>0</th>\n",
       "      <td>1101</td>\n",
       "      <td>10428</td>\n",
       "      <td>NaN</td>\n",
       "    </tr>\n",
       "    <tr>\n",
       "      <th>1</th>\n",
       "      <td>1102</td>\n",
       "      <td>3818</td>\n",
       "      <td>NaN</td>\n",
       "    </tr>\n",
       "    <tr>\n",
       "      <th>2</th>\n",
       "      <td>1216</td>\n",
       "      <td>6469</td>\n",
       "      <td>NaN</td>\n",
       "    </tr>\n",
       "    <tr>\n",
       "      <th>3</th>\n",
       "      <td>1217</td>\n",
       "      <td>9482</td>\n",
       "      <td>NaN</td>\n",
       "    </tr>\n",
       "    <tr>\n",
       "      <th>4</th>\n",
       "      <td>1218</td>\n",
       "      <td>1874</td>\n",
       "      <td>NaN</td>\n",
       "    </tr>\n",
       "    <tr>\n",
       "      <th>...</th>\n",
       "      <td>...</td>\n",
       "      <td>...</td>\n",
       "      <td>...</td>\n",
       "    </tr>\n",
       "    <tr>\n",
       "      <th>364</th>\n",
       "      <td>9919</td>\n",
       "      <td>2406</td>\n",
       "      <td>NaN</td>\n",
       "    </tr>\n",
       "    <tr>\n",
       "      <th>365</th>\n",
       "      <td>9941</td>\n",
       "      <td>1039</td>\n",
       "      <td>NaN</td>\n",
       "    </tr>\n",
       "    <tr>\n",
       "      <th>366</th>\n",
       "      <td>9945</td>\n",
       "      <td>2191</td>\n",
       "      <td>NaN</td>\n",
       "    </tr>\n",
       "    <tr>\n",
       "      <th>367</th>\n",
       "      <td>9958</td>\n",
       "      <td>4023</td>\n",
       "      <td>NaN</td>\n",
       "    </tr>\n",
       "    <tr>\n",
       "      <th>368</th>\n",
       "      <td>9962</td>\n",
       "      <td>1288</td>\n",
       "      <td>NaN</td>\n",
       "    </tr>\n",
       "  </tbody>\n",
       "</table>\n",
       "<p>369 rows × 3 columns</p>\n",
       "</div>"
      ],
      "text/plain": [
       "       id   volume  Unnamed: 2\n",
       "0    1101    10428         NaN\n",
       "1    1102     3818         NaN\n",
       "2    1216     6469         NaN\n",
       "3    1217     9482         NaN\n",
       "4    1218     1874         NaN\n",
       "..    ...      ...         ...\n",
       "364  9919     2406         NaN\n",
       "365  9941     1039         NaN\n",
       "366  9945     2191         NaN\n",
       "367  9958     4023         NaN\n",
       "368  9962     1288         NaN\n",
       "\n",
       "[369 rows x 3 columns]"
      ]
     },
     "execution_count": 27,
     "metadata": {},
     "output_type": "execute_result"
    }
   ],
   "source": [
    "dfv = pd.read_csv(\"volumeData/20230103.csv\")\n",
    "dfv"
   ]
  },
  {
   "cell_type": "code",
   "execution_count": 32,
   "metadata": {},
   "outputs": [
    {
     "name": "stderr",
     "output_type": "stream",
     "text": [
      "C:\\Users\\user\\AppData\\Local\\Temp\\ipykernel_11800\\2255705210.py:3: FutureWarning: Passing a set as an indexer is deprecated and will raise in a future version. Use a list instead.\n",
      "  dd = df2[{\"id\",\"volume\"}]\n"
     ]
    }
   ],
   "source": [
    "import _beowFmt as fm \n",
    "\n",
    "df2 = df[(df[\"id\"]>=\"1101\") & (df[\"id\"]<=\"9999\") & (df[\"volume\"] >= 1000)].sort_values(by=['id'], ascending=True)\n",
    "dd = df2[{\"id\",\"volume\"}]\n",
    "ss = ''\n",
    "for d in dd.values.tolist():\n",
    "  ss += f\"{d[1]}, {d[0]}\\n\"\n",
    "\n",
    "fm.write_LogFile(f\"keepData/stockVolume.csv\", ss)"
   ]
  },
  {
   "cell_type": "code",
   "execution_count": null,
   "metadata": {},
   "outputs": [],
   "source": [
    "from pathlib import Path  \n",
    "\n",
    "filepath = Path('https://www.wantgoo.com/investrue/all-quote-info')  \n",
    "filepath.parent.mkdir(parents=True, exist_ok=True)  \n",
    "df.to_csv(filepath)  "
   ]
  },
  {
   "cell_type": "code",
   "execution_count": null,
   "metadata": {},
   "outputs": [],
   "source": [
    "# importing the requests library\n",
    "import requests\n",
    "\n",
    "# api-endpoint\n",
    "URL = \"http://maps.googleapis.com/maps/api/geocode/json\"\n",
    "\n",
    "# location given here\n",
    "location = \"delhi technological university\"\n",
    "\n",
    "# defining a params dict for the parameters to be sent to the API\n",
    "PARAMS = {'address':location}\n",
    "\n",
    "# sending get request and saving the response as response object\n",
    "r = requests.get(url = URL, params = PARAMS)\n",
    "\n",
    "# extracting data in json format\n",
    "data = r.json()\n",
    "\n",
    "\n",
    "# extracting latitude, longitude and formatted address\n",
    "# of the first matching location\n",
    "latitude = data['results'][0]['geometry']['location']['lat']\n",
    "longitude = data['results'][0]['geometry']['location']['lng']\n",
    "formatted_address = data['results'][0]['formatted_address']\n",
    "\n",
    "# printing the output\n",
    "print(\"Latitude:%s\\nLongitude:%s\\nFormatted Address:%s\"\n",
    "\t%(latitude, longitude,formatted_address))\n"
   ]
  }
 ],
 "metadata": {
  "kernelspec": {
   "display_name": "Python 3",
   "language": "python",
   "name": "python3"
  },
  "language_info": {
   "codemirror_mode": {
    "name": "ipython",
    "version": 3
   },
   "file_extension": ".py",
   "mimetype": "text/x-python",
   "name": "python",
   "nbconvert_exporter": "python",
   "pygments_lexer": "ipython3",
   "version": "3.10.8"
  },
  "orig_nbformat": 4,
  "vscode": {
   "interpreter": {
    "hash": "5598684e35808281c470853877934f7e11f222e6ce268f810e9e4f0e18b5c753"
   }
  }
 },
 "nbformat": 4,
 "nbformat_minor": 2
}
