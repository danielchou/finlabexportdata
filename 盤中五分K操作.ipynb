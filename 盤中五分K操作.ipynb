{
 "cells": [
  {
   "cell_type": "code",
   "execution_count": 1,
   "metadata": {},
   "outputs": [
    {
     "name": "stdout",
     "output_type": "stream",
     "text": [
      "目前時間：16:28,預估量放大係數:1.0\n",
      "1.0\n"
     ]
    }
   ],
   "source": [
    "#前置作業準備，只要一次!!\n",
    "import requests\n",
    "import pandas as pd\n",
    "from bs4 import BeautifulSoup\n",
    "import json\n",
    "\n",
    "df5k = pd.read_json(\"paras/mapping5K.json\")\n",
    "dfv = pd.read_csv(\"volumeData/20230106.csv\")\n",
    "dfv[\"id\"] = dfv[\"id\"].astype(\"string\")\n",
    "dfv = dfv.drop(columns=['close'])\n",
    "\n",
    "headers = {\n",
    "    \"User-Agent\": \"Mozilla/5.0 (Macintosh; Intel Mac OS X 10_14_6) AppleWebKit/537.36(KHTML, like Gecko) Chrome/78.0.3904.97 Safari/537.36\"\n",
    "}\n",
    "\n",
    "url4 = \"https://www.wantgoo.com/investrue/all-alive\"\n",
    "r3 = requests.get(url4, headers = headers).content\n",
    "soup = BeautifulSoup(r3, \"html.parser\")\n",
    "rr3 = soup.prettify()\n",
    "dfn = pd.read_json(rr3)\n",
    "dfn = dfn[(dfn[\"id\"]>=\"1101\") & (dfn[\"id\"]<=\"9999\") & (dfn[\"id\"].str.len() == 4)]\n",
    "dfn = dfn.drop(columns=['type','country','url', 'industries'])\n",
    "dfn[\"id\"] = dfn[\"id\"].astype(\"string\")\n",
    "\n",
    "### 計算量比參數 ###\n",
    "import time\n",
    "def getRate5K():\n",
    "    localtime = time.localtime()\n",
    "    nowTime = time.strftime(\"%H:%M\", localtime)\n",
    "    Rate5k = df5k[(df5k[\"e\"] >= nowTime) & (df5k[\"b\"] <= nowTime)][\"w\"].values[0]  #五分K量比預估放大參數 \n",
    "    print(f\"目前時間：{nowTime},預估量放大係數:{Rate5k}\")\n",
    "    return Rate5k\n",
    "\n",
    "print(getRate5K())"
   ]
  },
  {
   "cell_type": "code",
   "execution_count": 2,
   "metadata": {},
   "outputs": [
    {
     "name": "stdout",
     "output_type": "stream",
     "text": [
      "目前時間：16:28,預估量放大係數:1.0\n",
      "      id  market    name    open   close   amp  jump  jumpRate  yVolume    預估量    量比  value    量比周轉\n",
      "24  4763  Listed   材料-KY  234.00  246.00  5.13  0.00      0.00     7622  22279  2.92  32.07  17.495\n",
      "22  3128     OTC      昇銳   42.40   44.20  4.25  0.00      0.00     1601  10814  6.75  25.75  16.250\n",
      "17  3141     OTC      晶宏   89.70   93.40  4.12  0.20      0.22    11420  15089  1.32  20.11  10.715\n",
      "28  8105  Listed      凌巨   13.05   13.25  1.53 -0.05     -0.38     5007  45523  9.09  10.31   9.700\n",
      "14  4968  Listed      立積  127.50  128.00  0.39  0.50      0.39     7980  11075  1.39  12.28   6.835\n",
      "15  6104     OTC      創惟   97.00   97.50  0.52  0.30      0.31     2978   7866  2.64   8.71   5.675\n",
      "32  2230     OTC      泰茂   39.50   41.40  4.81 -0.40     -1.01     4378   3732  0.85   9.35   5.100\n",
      "5   4961  Listed      天鈺  138.00  141.50  2.54  1.00      0.72    22680  16634  0.73   8.92   4.825\n",
      "19  2455  Listed      全新   80.10   81.40  1.62  0.10      0.12     5119  11489  2.24   6.21   4.225\n",
      "6   3558     OTC      神準  209.00  209.50  0.24  1.50      0.72     1434   2904  2.03   5.92   3.975\n",
      "31  3228     OTC     金麗科  176.50  180.50  2.27 -1.50     -0.85     3861   4317  1.12   6.37   3.745\n",
      "1   3105     OTC      穩懋  174.00  176.00  1.15  3.50      2.01     7205  18958  2.63   4.47   3.550\n",
      "9   3675     OTC      德微  172.50  174.00  0.87  1.00      0.58      488   1503  3.08   3.38   3.230\n",
      "12  5284  Listed  jpp-KY   67.90   69.90  2.95  0.30      0.44      941   2023  2.15   4.22   3.185\n",
      "21  3035  Listed      智原  158.50  160.00  0.95  0.00      0.00     8935  11578  1.30   4.66   2.980\n",
      "16  3289     OTC      宜特   75.80   76.60  1.06  0.20      0.26     2715   3268  1.20   4.37   2.785\n",
      "23  3081     OTC      聯亞  111.50  114.50  2.69  0.00      0.00      923   2520  2.73   2.74   2.735\n",
      "4   6679     OTC      鈺太  247.00  247.50  0.20  3.00      1.21     1187   2020  1.70   3.68   2.690\n",
      "33  6719  Listed      力智  271.00  279.50  3.14 -3.00     -1.11     2217   2812  1.27   3.59   2.430\n",
      "8   3006  Listed     晶豪科   72.50   72.80  0.41  0.50      0.69     4140   7765  1.88   2.71   2.295\n",
      "0   4950     OTC      牧東   23.50   23.20 -1.28  1.20      5.11     1735   1632  0.94   3.49   2.215\n",
      "10  8069     OTC      元太  173.50  173.50  0.00  1.00      0.58    22637  31335  1.38   2.75   2.065\n",
      "11  8049     OTC      晶采   31.00   32.00  3.23  0.15      0.48     1476   2427  1.64   2.05   1.845\n",
      "3   2743     OTC      山富   60.80   60.00 -1.32  1.00      1.64      600    763  1.27   2.12   1.695\n",
      "2   3293     OTC      鈊象  485.00  483.50 -0.31  9.00      1.86     4522   3482  0.77   2.47   1.620\n",
      "18  5269  Listed      祥碩  786.00  799.00  1.65  1.00      0.13      969   1222  1.26   1.76   1.510\n",
      "27  6531  Listed     愛普*  186.00  188.00  1.08 -0.50     -0.27     2886   3084  1.07   1.91   1.490\n",
      "26  3265     OTC     台星科   47.70   48.30  1.26 -0.05     -0.10     1715   2250  1.31   1.65   1.480\n",
      "29  2327  Listed      國巨  522.00  535.00  2.49 -3.00     -0.57     5523   5964  1.08   1.42   1.250\n",
      "20  2368  Listed     金像電   91.00   91.80  0.88  0.00      0.00     7221   7281  1.01   1.48   1.245\n",
      "13  4966     OTC   譜瑞-KY  945.00  957.00  1.27  4.00      0.42     1647   1321  0.80   1.63   1.215\n",
      "7   8038     OTC     長園科   41.90   42.10  0.48  0.30      0.72     1768   1079  0.61   1.80   1.205\n",
      "30  8046  Listed      南電  234.50  236.50  0.85 -1.50     -0.64    10520   7125  0.68   1.10   0.890\n"
     ]
    }
   ],
   "source": [
    "import requests\n",
    "import pandas as pd\n",
    "from bs4 import BeautifulSoup\n",
    "import json\n",
    "import _beowFmt as fm \n",
    "\n",
    "pd.set_option('display.expand_frame_repr', False)\n",
    "pd.set_option('display.max_rows', 500)\n",
    "pd.set_option(\"expand_frame_repr\", False)\n",
    "headers = {\n",
    "    \"User-Agent\": \"Mozilla/5.0 (Macintosh; Intel Mac OS X 10_14_6) AppleWebKit/537.36(KHTML, like Gecko) Chrome/78.0.3904.97 Safari/537.36\"\n",
    "}\n",
    "\n",
    "r = requests.get(\"https://www.wantgoo.com/investrue/all-quote-info\", headers = headers).content\n",
    "soup = BeautifulSoup(r, \"html.parser\")\n",
    "rr = soup.prettify()\n",
    "df = pd.read_json(rr)\n",
    "df = df.drop(columns=['tradeDate', 'time','millionAmount'])\n",
    "df[\"id\"] = df[\"id\"].astype(\"string\")\n",
    "df = pd.merge(df, dfn, left_on=\"id\", right_on=\"id\")  ## 結合股票名稱\n",
    "df[\"float\"] = df[\"close\"].astype(\"float\")\n",
    "df[\"amp\"] = ((df[\"close\"] - df[\"open\"])/df[\"open\"] * 100).round(2)\n",
    "df[\"jump\"] = df[\"open\"] - df[\"previousClose\"]\n",
    "df[\"jumpRate\"] = (df[\"jump\"] / df[\"open\"] * 100).round(2)\n",
    "df = df[(df[\"id\"]>=\"1101\") & (df[\"id\"]<=\"9999\") & (df[\"id\"].str.len() == 4) & (df[\"close\"] > df[\"previousClose\"])].sort_values(\"jumpRate\", ascending=False)\n",
    "# df.info()\n",
    "# print(df.head(50))\n",
    "\n",
    "r2 = requests.get(\"https://www.wantgoo.com/stock/all-turnover-rates\", headers = headers).content\n",
    "soup = BeautifulSoup(r2, \"html.parser\")\n",
    "rr2 = soup.prettify()\n",
    "dfa = pd.read_json(rr2)\n",
    "# print(dfa)\n",
    "\n",
    "dfa[\"investrueId\"] = dfa[\"investrueId\"].astype(\"string\")\n",
    "dfb = pd.merge(df, dfa, left_on=\"id\", right_on=\"investrueId\")\n",
    "dfb = dfb.drop(columns=['investrueId'])\n",
    "dfb = dfb[(dfb[\"value\"] > 1)]\n",
    "dfb[\"value\"] = dfb[\"value\"].round(2)\n",
    "\n",
    "\n",
    "dfc = pd.merge(dfb, dfv, left_on=\"id\", right_on=\"id\")\n",
    "dfc[\"預估量\"] = (dfc[\"volume\"] * getRate5K()).astype(int)        ##預估量\n",
    "dfc[\"量比\"] = (dfc[\"預估量\"] / dfc[\"yVolume\"]).round(2)     ##量比\n",
    "dfc[\"量比周轉\"] = (dfc[\"量比\"] + dfc[\"value\"]) / 2\n",
    "dfc2 = dfc[dfc[\"value\"] > 1]\n",
    "print(dfc2.loc[:, [\"id\",\"market\",\"name\",\"open\",\"close\",\"amp\",\"jump\",\"jumpRate\",\"yVolume\",\"預估量\",\"量比\",\"value\",\"量比周轉\"]].sort_values(\"量比周轉\", ascending=False))\n",
    "\n",
    "ss = ''\n",
    "for d in dfc2[\"id\"].tolist():\n",
    "  ss += f\"{d}.TW,\"\n",
    "fm.write_LogFile(f\"xq_import/量價型態20230110.csv\", ss)\n",
    "\n",
    "\n"
   ]
  },
  {
   "cell_type": "code",
   "execution_count": null,
   "metadata": {},
   "outputs": [],
   "source": [
    "#####################################################################################################\n",
    "import _beowFmt as fm \n",
    "dd = dfb[[\"id\",\"close\",\"volume\"]].sort_values(\"id\")\n",
    "ss = 'id,close,yVolume\\n'\n",
    "for d in dd.values.tolist():\n",
    "  ss += f\"{d[0]},{d[1]},{d[2]}\\n\"\n",
    "fm.write_LogFile(f\"volumeData/20230110.csv\", ss)\n",
    "\n",
    "# todo ##\n",
    "# https://www.wantgoo.com/investrue/all-previous-weekly-candlestick?v=1672966860000  上一周收盤價\n"
   ]
  },
  {
   "cell_type": "code",
   "execution_count": null,
   "metadata": {},
   "outputs": [],
   "source": [
    "import time\n",
    "localtime = time.localtime()\n",
    "nowTime = time.strftime(\"%H:%M\", localtime)\n",
    "print(nowTime)\n",
    "# multiple_level_data = pd.json_normalize(data, record_path =['Results'], meta =['original_number_of_clusters','Scaler','family_min_samples_percentage'], meta_prefix='config_params_', record_prefix='dbscan_')"
   ]
  },
  {
   "cell_type": "code",
   "execution_count": null,
   "metadata": {},
   "outputs": [],
   "source": [
    "import _beowFmt as fm \n",
    "\n",
    "df2 = df[(df[\"id\"]>=\"1101\") & (df[\"id\"]<=\"9999\") & (df[\"volume\"] >= 1000)].sort_values(by=['id'], ascending=True)\n",
    "dd = df2[{\"id\",\"volume\"}]\n",
    "ss = ''\n",
    "for d in dd.values.tolist():\n",
    "  ss += f\"{d[1]}, {d[0]}\\n\"\n",
    "\n",
    "fm.write_LogFile(f\"keepData/stockVolume.csv\", ss)"
   ]
  },
  {
   "cell_type": "code",
   "execution_count": null,
   "metadata": {},
   "outputs": [],
   "source": [
    "while True:\n",
    "    localtime = time.localtime()\n",
    "    result = time.strftime(\"%Y-%m-%d %I:%M:%S %p\", localtime)\n",
    "    print(result)\n",
    "    time.sleep(1)"
   ]
  },
  {
   "cell_type": "code",
   "execution_count": null,
   "metadata": {},
   "outputs": [],
   "source": [
    "from pathlib import Path  \n",
    "\n",
    "filepath = Path('https://www.wantgoo.com/investrue/all-quote-info')  \n",
    "filepath.parent.mkdir(parents=True, exist_ok=True)  \n",
    "df.to_csv(filepath)  "
   ]
  },
  {
   "cell_type": "code",
   "execution_count": null,
   "metadata": {},
   "outputs": [],
   "source": [
    "# importing the requests library\n",
    "import requests\n",
    "\n",
    "# api-endpoint\n",
    "URL = \"http://maps.googleapis.com/maps/api/geocode/json\"\n",
    "\n",
    "# location given here\n",
    "location = \"delhi technological university\"\n",
    "\n",
    "# defining a params dict for the parameters to be sent to the API\n",
    "PARAMS = {'address':location}\n",
    "\n",
    "# sending get request and saving the response as response object\n",
    "r = requests.get(url = URL, params = PARAMS)\n",
    "\n",
    "# extracting data in json format\n",
    "data = r.json()\n",
    "\n",
    "\n",
    "# extracting latitude, longitude and formatted address\n",
    "# of the first matching location\n",
    "latitude = data['results'][0]['geometry']['location']['lat']\n",
    "longitude = data['results'][0]['geometry']['location']['lng']\n",
    "formatted_address = data['results'][0]['formatted_address']\n",
    "\n",
    "# printing the output\n",
    "print(\"Latitude:%s\\nLongitude:%s\\nFormatted Address:%s\"\n",
    "\t%(latitude, longitude,formatted_address))\n"
   ]
  }
 ],
 "metadata": {
  "kernelspec": {
   "display_name": "Python 3",
   "language": "python",
   "name": "python3"
  },
  "language_info": {
   "codemirror_mode": {
    "name": "ipython",
    "version": 3
   },
   "file_extension": ".py",
   "mimetype": "text/x-python",
   "name": "python",
   "nbconvert_exporter": "python",
   "pygments_lexer": "ipython3",
   "version": "3.10.2"
  },
  "orig_nbformat": 4,
  "vscode": {
   "interpreter": {
    "hash": "369f2c481f4da34e4445cda3fffd2e751bd1c4d706f27375911949ba6bb62e1c"
   }
  }
 },
 "nbformat": 4,
 "nbformat_minor": 2
}
